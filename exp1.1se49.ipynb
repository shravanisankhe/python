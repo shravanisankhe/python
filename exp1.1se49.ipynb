{
  "metadata": {
    "kernelspec": {
      "name": "python",
      "display_name": "Python (Pyodide)",
      "language": "python"
    },
    "language_info": {
      "codemirror_mode": {
        "name": "python",
        "version": 3
      },
      "file_extension": ".py",
      "mimetype": "text/x-python",
      "name": "python",
      "nbconvert_exporter": "python",
      "pygments_lexer": "ipython3",
      "version": "3.8"
    }
  },
  "nbformat_minor": 5,
  "nbformat": 4,
  "cells": [
    {
      "id": "5e177d3e-0ec7-483a-afa0-eaa0fcf34adb",
      "cell_type": "code",
      "source": "a = 'This is a string'\nprint(a)\nb = \"This is a string\"\nprint(b)\nc = '''This is a string'''\nprint(c)",
      "metadata": {
        "trusted": true
      },
      "outputs": [
        {
          "name": "stdout",
          "output_type": "stream",
          "text": "This is a string\nThis is a string\nThis is a string\n"
        }
      ],
      "execution_count": 1
    },
    {
      "id": "fc978989-fd63-4781-842e-e463f1839ce3",
      "cell_type": "code",
      "source": "",
      "metadata": {
        "trusted": true
      },
      "outputs": [],
      "execution_count": null
    }
  ]
}