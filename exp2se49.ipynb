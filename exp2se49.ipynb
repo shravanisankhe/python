{
  "metadata": {
    "kernelspec": {
      "name": "python",
      "display_name": "Python (Pyodide)",
      "language": "python"
    },
    "language_info": {
      "codemirror_mode": {
        "name": "python",
        "version": 3
      },
      "file_extension": ".py",
      "mimetype": "text/x-python",
      "name": "python",
      "nbconvert_exporter": "python",
      "pygments_lexer": "ipython3",
      "version": "3.8"
    }
  },
  "nbformat_minor": 5,
  "nbformat": 4,
  "cells": [
    {
      "id": "262e6687-57f6-439d-abfa-9aa3cc291c64",
      "cell_type": "code",
      "source": "class Employee:\n    def __init__ (\n            self,\n            designation: str = 'Developer',\n            frontend: bool = False,\n            backend: bool = False\n    ):\n        self.designation = designation\n        self.frontend = frontend\n        self.backend = backend\n\n    def __repr__ (self):\n        return '{}'.format (self.designation)\n\n    def verifier(self):\n        if self.frontend and self.backend:\n            self.designation = \"Fullstack\"\n        elif self.frontend:\n            self.designation = \"Frontend Developer\"\n        elif self.backend:\n            self.designation = \"Backend Developer\"\n        else:\n            self.designation = \"Not a Developer\"\n\nif __name__ == '__main__':\n    firstEmployee = Employee(frontend=True, backend=False)\n    firstEmployee.verifier() \n    print(firstEmployee) \n    \n    secondEmployee = Employee(frontend=False, backend=True)\n    secondEmployee.verifier()  \n    print(secondEmployee) \n    \n    thirdEmployee = Employee(frontend=True, backend=True)\n    thirdEmployee.verifier() \n    print(thirdEmployee)  \n    \n    fourthEmployee = Employee(frontend=False, backend=False)\n    fourthEmployee.verifier() \n    print(fourthEmployee)  \n",
      "metadata": {
        "trusted": true
      },
      "outputs": [
        {
          "name": "stdout",
          "output_type": "stream",
          "text": "Frontend Developer\nBackend Developer\nFullstack\nNot a Developer\n"
        }
      ],
      "execution_count": 1
    },
    {
      "id": "a247cccf-2e96-4ea2-a988-4165b6b529e2",
      "cell_type": "code",
      "source": "",
      "metadata": {
        "trusted": true
      },
      "outputs": [],
      "execution_count": null
    },
    {
      "id": "18030c43-73bc-4fc9-8aa7-a572148eb403",
      "cell_type": "code",
      "source": "",
      "metadata": {
        "trusted": true
      },
      "outputs": [],
      "execution_count": null
    }
  ]
}